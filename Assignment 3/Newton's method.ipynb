{
 "cells": [
  {
   "cell_type": "markdown",
   "metadata": {
    "deletable": false,
    "editable": false,
    "run_control": {
     "frozen": true
    }
   },
   "source": [
    "[Back to Assignment 3](_Oving3.ipynb)\n",
    "\n",
    "# Newton's method\n",
    "In this exercise you will use Newton's method for finding roots of the scalar function $f(x)$ to within a certain level of prescision (i.e., some small number $\\texttt{tol}$). Recall that with Newton's method, you make a guess for the root $x_0$, and then you draw a tangent line of $f(x)$ line at $x=x_0$. You then use the root of the tangent line as an $\\it{improved}$ guess of the root, which we will call $x_1$. We then draw another tangent line, now at the point $x_1$ and keep going $n$ times until your guess $x_{n}$ satifies some sort of stopping criteria. \n",
    "\n",
    "Newton's method reads $$x_{k+1}=x_{k}-\\frac{f(x_{k})}{f'(x_{k})},$$ which is the solution to the root of the tangent line of $f(x)$ at $x=x_k$. Note that this is best implemented using a while loop. \n",
    "\n",
    "**Stopping criteria**: Your stopping criteria should be something like $\\texttt{abs}(f(x_n))<\\texttt{tol}$ and/or $\\texttt{abs}(x_n-x_{n+1})<\\texttt{tol}$. In addition, it is sometimes wise to add another stopping criteria in case the algorithm $\\it does~not$ converge, for example \n",
    "\n",
    "    k=1\n",
    "    while <<stopping_criteria>> and k<100:\n",
    "        <<Newton iteration>>\n",
    "        k = k+1\n",
    "        \n",
    "this will stop the loop if it hasn't converged in 100 iterations.\n",
    "\n"
   ]
  },
  {
   "cell_type": "markdown",
   "metadata": {
    "deletable": false,
    "editable": false,
    "run_control": {
     "frozen": true
    }
   },
   "source": [
    "## a) "
   ]
  },
  {
   "cell_type": "markdown",
   "metadata": {
    "deletable": false,
    "editable": false,
    "run_control": {
     "frozen": true
    }
   },
   "source": [
    "Use Newton's method to calculate the roots of the test function $f(x)=\\cos(x)$, which has known roots at $x = \\frac{n \\pi}{2}$, for some integer $m$. \n",
    "\n",
    "Use a tolerance of $\\texttt{tol} = 10^{-10}$, and an initial guess of $x_0 = 0.5$.\n",
    "\n",
    "Your algorithm should converge to the root $x = \\frac{\\pi}{2}$. "
   ]
  },
  {
   "cell_type": "code",
   "execution_count": 62,
   "metadata": {},
   "outputs": [],
   "source": [
    "# write your code here\n",
    "from math import sin\n",
    "from math import cos\n",
    "tol = 10**(-10)\n",
    "\n",
    "def f(x):\n",
    "    return cos(x)\n",
    "\n",
    "def df(x):\n",
    "    return -sin(x)\n",
    "\n",
    "def newton(x):\n",
    "        return x-f(x)/df(x)\n",
    "\n",
    "def main_newton(tol):\n",
    "    x = 0.5\n",
    "    count = 1\n",
    "    \n",
    "    while abs(f(x)) > tol and count < 10000:\n",
    "        x = newton(x)\n",
    "        count += 1\n",
    "    print(f'x = {x}\\nf(x) = {f(x)}\\ncount = {count}')\n",
    "\n",
    "\n"
   ]
  },
  {
   "cell_type": "code",
   "execution_count": 63,
   "metadata": {},
   "outputs": [
    {
     "name": "stdout",
     "output_type": "stream",
     "text": [
      "x = 1.5707963267948966\n",
      "f(x) = 6.123233995736766e-17\n",
      "count = 6\n"
     ]
    }
   ],
   "source": [
    "main_newton(tol)"
   ]
  },
  {
   "cell_type": "markdown",
   "metadata": {},
   "source": [
    "### i) ###\n",
    "For the stopping criteria $\\texttt{abs}(f(x_n))<\\texttt{tol}$, how many iterations does it take for Newton's method to converge to the root? \n",
    "\n"
   ]
  },
  {
   "cell_type": "markdown",
   "metadata": {},
   "source": [
    "6"
   ]
  },
  {
   "cell_type": "markdown",
   "metadata": {
    "deletable": false,
    "editable": false,
    "run_control": {
     "frozen": true
    }
   },
   "source": [
    "### ii) ### \n",
    "What happens when you use the initial guess of $x_0 = 0$? Can you explain your observation? (Note: if you have written your code correctly, something $\\it should$ go wrong.)"
   ]
  },
  {
   "cell_type": "markdown",
   "metadata": {},
   "source": [
    "You divide by the derivative sin(x), which is zero, and you cannot divide by zero."
   ]
  },
  {
   "cell_type": "markdown",
   "metadata": {
    "deletable": false,
    "editable": false,
    "run_control": {
     "frozen": true
    }
   },
   "source": [
    "### iii)"
   ]
  },
  {
   "cell_type": "markdown",
   "metadata": {
    "deletable": false,
    "editable": false,
    "run_control": {
     "frozen": true
    }
   },
   "source": [
    "What happens when you use a tolerance of $\\texttt{tol} = 10^{-18}$ and $x_0=0.5$? Does the algorithm converge? Can you explain your observation?"
   ]
  },
  {
   "cell_type": "markdown",
   "metadata": {},
   "source": [
    "Inputted a stopping criteria, and the solution does not converge following 10 000 iterations, meaning it does not converge. This could be caused by the fact that delta t is higher than the tolerance specified."
   ]
  },
  {
   "cell_type": "markdown",
   "metadata": {},
   "source": [
    "## b)"
   ]
  },
  {
   "cell_type": "markdown",
   "metadata": {
    "deletable": false,
    "editable": false,
    "run_control": {
     "frozen": true
    }
   },
   "source": [
    "Now we will try and find a solution to the following function $$x{{\\rm e}^{- \\left( \\sin \\left( x/2 \\right)  \\right) ^{2}}}=3/2. $$ To do this we will look for a root of the function $$ f(x) = x{{\\rm e}^{- \\left( \\sin \\left( x/2 \\right)  \\right) ^{2}}}-3/2.$$\n",
    "which has the derivative $$f'(x) = {{\\rm e}^{- \\left( \\sin \\left( x/2 \\right)  \\right) ^{2}}}-x\\sin\n",
    " \\left( x/2 \\right) \\cos \\left( x/2 \\right) {{\\rm e}^{- \\left( \\sin\n",
    " \\left( x/2 \\right)  \\right) ^{2}}}.\n",
    "$$ The values of $f(x)$ and $f'(x)$ for $x = 2$ have been written in Python for you below so you don't make a mistake copying the formula into you code. "
   ]
  },
  {
   "cell_type": "code",
   "execution_count": 20,
   "metadata": {
    "deletable": false,
    "editable": false,
    "run_control": {
     "frozen": true
    }
   },
   "outputs": [
    {
     "name": "stdout",
     "output_type": "stream",
     "text": [
      "The value of the derivative at x = 2 is f'(2) = 0.04467938942574401\n"
     ]
    }
   ],
   "source": [
    "import math \n",
    "x = 2\n",
    "f = x*math.exp(-math.sin((1/2)*x)**2)-3/2\n",
    "dfdx = math.exp(-math.sin((1/2)*x)**2)-x*math.sin((1/2)*x)*math.cos((1/2)*x)*math.exp(-math.sin((1/2)*x)**2)\n",
    "print(\"The value of the derivative at x = 2 is f'(2) =\", dfdx)"
   ]
  },
  {
   "cell_type": "markdown",
   "metadata": {
    "deletable": false,
    "editable": false,
    "run_control": {
     "frozen": true
    }
   },
   "source": [
    "Notice that the value for the derivative at $x=2$ is very close to zero and is therefore not a good starting point. "
   ]
  },
  {
   "cell_type": "markdown",
   "metadata": {
    "deletable": false,
    "editable": false,
    "run_control": {
     "frozen": true
    }
   },
   "source": [
    "### i) ### \n",
    " There is a root in the interval $[0,10]$. What is the value of this root? Express your answer to 10 decimal places.  \n",
    "\n",
    "**Note:** As suggested above, the Newton method might not converge for certain initial values, therefore you need to test a few initial starting points until the algorithm converges. \n"
   ]
  },
  {
   "cell_type": "code",
   "execution_count": 101,
   "metadata": {},
   "outputs": [],
   "source": [
    "def f(x):\n",
    "    return x*math.exp(-math.sin((1/2)*x)**2)-3/2\n",
    "\n",
    "def df(x):\n",
    "    return math.exp(-math.sin((1/2)*x)**2)-x*math.sin((1/2)*x)*math.cos((1/2)*x)*math.exp(-math.sin((1/2)*x)**2)\n",
    "\n",
    "def newton(x):\n",
    "        return x-f(x)/df(x)\n",
    "\n",
    "def main_newton(tol,x):\n",
    "    count = 1\n",
    "    \n",
    "    while abs(f(x)) > tol and count < 10000:\n",
    "        x = newton(x)\n",
    "        count += 1\n",
    "    print(f'x = {x}\\nf(x) = {f(x)}\\ncount = {count}')\n",
    "\n",
    "\n"
   ]
  },
  {
   "cell_type": "code",
   "execution_count": 102,
   "metadata": {},
   "outputs": [
    {
     "name": "stdout",
     "output_type": "stream",
     "text": [
      "x = 3.739082543604722\n",
      "f(x) = 2.9976021664879227e-14\n",
      "count = 5\n"
     ]
    }
   ],
   "source": [
    "tol = 10**(-10)\n",
    "x = 4\n",
    "main_newton(tol,x)"
   ]
  },
  {
   "cell_type": "markdown",
   "metadata": {
    "deletable": false,
    "editable": false,
    "heading_collapsed": true,
    "run_control": {
     "frozen": true
    }
   },
   "source": [
    "#### **Hint:**"
   ]
  },
  {
   "cell_type": "markdown",
   "metadata": {
    "deletable": false,
    "editable": false,
    "hidden": true,
    "run_control": {
     "frozen": true
    }
   },
   "source": [
    "\n",
    "The below code can be used to print values to many decimal places. To get 10 decimal places of accuracy, you should keep iterating your code until the first 10 decimal places of ${x_n}$ don't change between iterations"
   ]
  },
  {
   "cell_type": "code",
   "execution_count": 36,
   "metadata": {
    "deletable": false,
    "editable": false,
    "hidden": true,
    "run_control": {
     "frozen": true
    }
   },
   "outputs": [
    {
     "name": "stdout",
     "output_type": "stream",
     "text": [
      "n = 1 : x_n = 0.1428571429, f(x_n) = -1.35787e+00\n"
     ]
    }
   ],
   "source": [
    "n = 1\n",
    "x = 1/7\n",
    "f = x*math.exp(-math.sin((1/2)*x)**2)-3/2\n",
    "\n",
    "print(\"n = %-2d: x_n = %.10f, f(x_n) = %.5e\" % (n,x,f)) \n",
    "# this prints the integer n, the float x to 10 decimal places\n",
    "# ... and the float f to 5 decimal places (in exponential format). This \n",
    "# ... is best placed inside your loop to see what is happening at each iteration \n"
   ]
  },
  {
   "cell_type": "markdown",
   "metadata": {
    "deletable": false,
    "editable": false,
    "run_control": {
     "frozen": true
    }
   },
   "source": [
    "### ii) (Optional bonus question for an extra reward*!) ###"
   ]
  },
  {
   "cell_type": "markdown",
   "metadata": {
    "deletable": false,
    "editable": false,
    "run_control": {
     "frozen": true
    }
   },
   "source": [
    "As you may have noticed, Newton's method sometimes doesn't converge unless we are close enough to the solution. One very common method to cirmumvent this issue is to do a few bisection method iterations first, and when you are \"close enough\" to the solution you can bring it home with Newton iterations. \n",
    "\n",
    "Implement a root finding algorithm that:\n",
    "\n",
    "   (1) uses the bisection method until you are within $|f(c)|<\\texttt{tol1}$, then\n",
    "    \n",
    "   (2) uses Newton's method until  $|f(x_n)|<\\texttt{tol2}$, \n",
    "    \n",
    "where you can choose the values of $\\texttt{tol1}$ and $\\texttt{tol2}$ as long as $\\texttt{tol1}>\\texttt{tol2}$."
   ]
  },
  {
   "cell_type": "markdown",
   "metadata": {
    "deletable": false,
    "editable": false,
    "run_control": {
     "frozen": true
    }
   },
   "source": [
    " \\* The reward is the satisfaction of completing the hardest part of the assignment (+ read the assignment approval description for assignment 3)"
   ]
  },
  {
   "cell_type": "code",
   "execution_count": 121,
   "metadata": {},
   "outputs": [],
   "source": [
    "\n",
    "def bisection(tol1): \n",
    "    a = float(input('Input lower limit'))\n",
    "    b = float(input('Input upper limit'))\n",
    "\n",
    "    if f(a)*f(b)>0:\n",
    "        print('inteval not chosen correctly!')\n",
    "\n",
    "    c = (a+b)/2   \n",
    "    count = 1\n",
    "    while abs(f(c))>tol1 and count < 10000:\n",
    "        c = (a+b)/2\n",
    "        if f(a)*f(c)<0:\n",
    "            b = c\n",
    "        elif f(b)*f(c)<0:\n",
    "            a=c\n",
    "        count += 1\n",
    "        \n",
    "    print(f'\\nBisection Method:\\nc = {c}\\nf(c) = {f(c)}\\nIterations = {count}\\n')\n",
    "    return x\n",
    "\n",
    "def main_newton(tol2,x):\n",
    "    count = 1\n",
    "    \n",
    "    while abs(f(x)) > tol2 and count < 10000:\n",
    "        x = newton(x)\n",
    "        count += 1\n",
    "    print(f'Newton method:\\nx = {x}\\nf(x) = {f(x)}\\nIterations = {count}')\n",
    "\n",
    "\n"
   ]
  },
  {
   "cell_type": "code",
   "execution_count": 122,
   "metadata": {},
   "outputs": [
    {
     "name": "stdin",
     "output_type": "stream",
     "text": [
      "Input lower limit 0\n",
      "Input upper limit 10\n"
     ]
    },
    {
     "name": "stdout",
     "output_type": "stream",
     "text": [
      "\n",
      "Bisection Method:\n",
      "c = 3.75\n",
      "f(c) = 0.009043733757714723\n",
      "Iterations = 4\n",
      "\n",
      "Newton method:\n",
      "x = 3.739082543604722\n",
      "f(x) = 2.9976021664879227e-14\n",
      "Iterations = 5\n"
     ]
    }
   ],
   "source": [
    "def BiNewMethod(tol1, tol2):\n",
    "    x = bisection(tol1)\n",
    "    return main_newton(tol2,x)\n",
    "\n",
    "tol1 = 10**(-1)\n",
    "tol2 = 10**(-10)\n",
    "BiNewMethod(tol1, tol2)"
   ]
  }
 ],
 "metadata": {
  "kernelspec": {
   "display_name": "Python 3",
   "language": "python",
   "name": "python3"
  },
  "language_info": {
   "codemirror_mode": {
    "name": "ipython",
    "version": 3
   },
   "file_extension": ".py",
   "mimetype": "text/x-python",
   "name": "python",
   "nbconvert_exporter": "python",
   "pygments_lexer": "ipython3",
   "version": "3.8.3"
  }
 },
 "nbformat": 4,
 "nbformat_minor": 4
}
