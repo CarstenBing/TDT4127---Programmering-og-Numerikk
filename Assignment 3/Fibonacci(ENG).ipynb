{
 "cells": [
  {
   "cell_type": "markdown",
   "metadata": {
    "deletable": false,
    "editable": false,
    "run_control": {
     "frozen": true
    }
   },
   "source": [
    "[Back to Assignment 3](_Oving3.ipynb)\n",
    "\n",
    "# Fibonacci\n",
    "\n",
    "**Learning goals:**\n",
    "\n",
    "* Loops\n",
    "\n",
    "**Starting Out with Python:**\n",
    "\n",
    "* Kap. 4.3\n",
    "\n",
    "<br><br>\n",
    "In this task you are going to use loops to calculate Fibonacci numbers.\n",
    "\n",
    "Fibonacci numbers are defined as follows: \n",
    "\n",
    "* **f(0) = 0**\n",
    "* **f(1) = 1**\n",
    "* **f(k) = f(k−1) + f(k−2)**\n",
    "\n",
    "This means that the two first numbers in the series are 0 and 1. After this, the next number is the sum of the two previous numbers. The beginning of the series looks like this: 0 1 1 2 3 5 8 13 ..."
   ]
  },
  {
   "cell_type": "markdown",
   "metadata": {
    "deletable": false,
    "editable": false,
    "run_control": {
     "frozen": true
    }
   },
   "source": [
    "**a)** Create a program that calculates and returns the k-th fibonacci number f(k) by iterations. If you have done it correctly, the 10th fibonaccinumber f(10) = 55. **Remember that the first number in the sequence is 0**.\n",
    "\n",
    "***Write your code below:***"
   ]
  },
  {
   "cell_type": "code",
   "execution_count": 4,
   "metadata": {
    "ExecuteTime": {
     "end_time": "2019-07-03T05:55:08.163277Z",
     "start_time": "2019-07-03T05:55:08.156436Z"
    }
   },
   "outputs": [
    {
     "name": "stdin",
     "output_type": "stream",
     "text": [
      "Input iteration:  10\n"
     ]
    },
    {
     "name": "stdout",
     "output_type": "stream",
     "text": [
      "f(2) of the Fibonacci sequence is 1\n",
      "f(3) of the Fibonacci sequence is 2\n",
      "f(4) of the Fibonacci sequence is 3\n",
      "f(5) of the Fibonacci sequence is 5\n",
      "f(6) of the Fibonacci sequence is 8\n",
      "f(7) of the Fibonacci sequence is 13\n",
      "f(8) of the Fibonacci sequence is 21\n",
      "f(9) of the Fibonacci sequence is 34\n",
      "f(10) of the Fibonacci sequence is 55\n"
     ]
    }
   ],
   "source": [
    "a = 0\n",
    "b = 1\n",
    "count = 1\n",
    "dcount = int(input('Input iteration: '))\n",
    "while count < dcount:\n",
    "    c = a + b\n",
    "    a = b\n",
    "    b = c\n",
    "    print(f'f({count+1}) of the Fibonacci sequence is {c}')\n",
    "    count += 1\n"
   ]
  },
  {
   "cell_type": "markdown",
   "metadata": {
    "deletable": false,
    "editable": false,
    "run_control": {
     "frozen": true
    }
   },
   "source": [
    "**b)** Rewrite the program in a) such that it also calculates the sum of all fibonacci numbers up to f(k). If you have done this correctly the sum of fibonacci numbers up to the 10th should be 143."
   ]
  },
  {
   "cell_type": "code",
   "execution_count": 5,
   "metadata": {},
   "outputs": [
    {
     "name": "stdin",
     "output_type": "stream",
     "text": [
      "Input iteration:  10\n"
     ]
    },
    {
     "name": "stdout",
     "output_type": "stream",
     "text": [
      "f(2) of the Fibonacci sequence is 1 and the sum is 2\n",
      "f(3) of the Fibonacci sequence is 2 and the sum is 4\n",
      "f(4) of the Fibonacci sequence is 3 and the sum is 7\n",
      "f(5) of the Fibonacci sequence is 5 and the sum is 12\n",
      "f(6) of the Fibonacci sequence is 8 and the sum is 20\n",
      "f(7) of the Fibonacci sequence is 13 and the sum is 33\n",
      "f(8) of the Fibonacci sequence is 21 and the sum is 54\n",
      "f(9) of the Fibonacci sequence is 34 and the sum is 88\n",
      "f(10) of the Fibonacci sequence is 55 and the sum is 143\n"
     ]
    }
   ],
   "source": [
    "a = 0\n",
    "b = 1\n",
    "count = 1\n",
    "S = 1\n",
    "dcount = int(input('Input iteration: '))\n",
    "while count < dcount:\n",
    "    c = a + b\n",
    "    a = b\n",
    "    b = c\n",
    "    S = S + c\n",
    "    print(f'f({count+1}) of the Fibonacci sequence is {c} and the sum is {S}')\n",
    "    count += 1\n"
   ]
  },
  {
   "cell_type": "markdown",
   "metadata": {},
   "source": [
    "**c)** (**Voluntary**, harder task) Modify the program to return a list of all the fibonacci numbers from 0 to f(k). Print the list. "
   ]
  },
  {
   "cell_type": "code",
   "execution_count": null,
   "metadata": {},
   "outputs": [],
   "source": []
  }
 ],
 "metadata": {
  "kernelspec": {
   "display_name": "Python 3",
   "language": "python",
   "name": "python3"
  },
  "language_info": {
   "codemirror_mode": {
    "name": "ipython",
    "version": 3
   },
   "file_extension": ".py",
   "mimetype": "text/x-python",
   "name": "python",
   "nbconvert_exporter": "python",
   "pygments_lexer": "ipython3",
   "version": "3.8.3"
  },
  "toc": {
   "base_numbering": 1,
   "nav_menu": {},
   "number_sections": false,
   "sideBar": true,
   "skip_h1_title": false,
   "title_cell": "Table of Contents",
   "title_sidebar": "Contents",
   "toc_cell": false,
   "toc_position": {},
   "toc_section_display": true,
   "toc_window_display": false
  }
 },
 "nbformat": 4,
 "nbformat_minor": 4
}
