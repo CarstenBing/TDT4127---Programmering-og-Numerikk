{
 "cells": [
  {
   "cell_type": "markdown",
   "metadata": {
    "deletable": false,
    "editable": false
   },
   "source": [
    "# Numerical integration \n",
    "\n",
    "# 1) \n",
    "\n",
    "In this exercise we will approximate integrals in 1D using numerical methods.\n",
    "\n",
    "Given a function $f(x)$ on an inteval $[a,b]$, one can approximate its integral $\\int_a^bf(x)\\mathrm{d}x$ by using, for example, the rectangle rule/midpoint rule:\n",
    "$$I=\\int_a^bf(x)\\mathrm{d}x \\approx (b-a) f\\left(\\frac{a+b}{2}\\right),$$\n",
    "or the trapezoidal rule:\n",
    "$$I=\\int_a^bf(x)\\mathrm{d}x \\approx(b-a)\\left(\\frac{f(a)+f(b)}{2}\\right).$$\n",
    "\n"
   ]
  },
  {
   "cell_type": "markdown",
   "metadata": {
    "deletable": false,
    "editable": false
   },
   "source": [
    "## a)\n",
    "\n",
    "Write function that accepts another function $f(x)$ and two interval boundaries $a$ and $b$ and returns an approximation to the integral $I$ using:\n",
    "\n",
    "***i)*** the rectangle rule; and,\n",
    "\n",
    "***ii)*** the trapezoidal rule.\n",
    "\n",
    "**Hint:** Your solution should look something like this:\n",
    "\n",
    "```python\n",
    "def integrate_midpoint(f,a,b):\n",
    "    ...\n",
    "    return I \n",
    "```\n",
    "\n",
    "```python\n",
    "def integrate_trapezoid(f,a,b):\n",
    "    ...\n",
    "    return I\n",
    "```\n",
    "***Write your code in the block below***"
   ]
  },
  {
   "cell_type": "code",
   "execution_count": 4,
   "metadata": {},
   "outputs": [],
   "source": [
    "def integrate_midpoint(f, a, b):\n",
    "    return (b-a)*f((a+b)/2)\n",
    "\n",
    "def integrate_trapezoid(f, a, b):\n",
    "    return (b-a)*(f(a)+f(b))/2\n"
   ]
  },
  {
   "cell_type": "markdown",
   "metadata": {
    "deletable": false,
    "editable": false
   },
   "source": [
    "## b)\n",
    "To test our functions `integrate_midpoint` and `integrate_trapezoid`, we can use the following simple function\n",
    "$$f(x)=x^n,$$ \n",
    "which has the indefinite integral\n",
    "$$F(x) = \\int x^n \\mathrm{d}x = \\frac{x^{n+1}}{n+1}$$\n",
    "and the definite integral on the interval $[a,b]$ given by\n",
    "$$I_{exact} = \\int^b_a x^n \\mathrm{d}x =  F(b)-F(a) $$\n",
    "\n"
   ]
  },
  {
   "cell_type": "markdown",
   "metadata": {
    "deletable": false,
    "editable": false
   },
   "source": [
    "### i) \n",
    "For $n=0,1,2,3,4$ and on the interval $[0,1]$, compute the error of the numerical approximations for the two functions you created in Q1a). (***Hint:*** The error is given by the difference from the numerical solution and the exact solution $\\mathrm{error} = I_{numerical} - I_{exact}$,where $I_{numerical}$ is calculated by the trapezoidal rule or midpoint rule above. Also use a `for` loop)\n",
    "\n",
    "***Write your code in the block below***"
   ]
  },
  {
   "cell_type": "code",
   "execution_count": 5,
   "metadata": {},
   "outputs": [
    {
     "name": "stdout",
     "output_type": "stream",
     "text": [
      "n = 0\n",
      "Midpoint error: 0.0\n",
      "Trapezoid error: 0.0\n",
      "\n",
      "n = 1\n",
      "Midpoint error: 0.0\n",
      "Trapezoid error: 0.0\n",
      "\n",
      "n = 2\n",
      "Midpoint error: -0.08333333333333331\n",
      "Trapezoid error: 0.16666666666666669\n",
      "\n",
      "n = 3\n",
      "Midpoint error: -0.125\n",
      "Trapezoid error: 0.25\n",
      "\n",
      "n = 4\n",
      "Midpoint error: -0.1375\n",
      "Trapezoid error: 0.3\n",
      "\n"
     ]
    }
   ],
   "source": [
    "a = 0\n",
    "b = 1\n",
    "\n",
    "def f(x):\n",
    "    return x**n\n",
    "\n",
    "for n in range(5):\n",
    "    Mnumerical = integrate_midpoint(f, a, b)\n",
    "    Tnumerical = integrate_trapezoid(f, a, b)\n",
    "    exact = (b**(n+1)/(n+1)-a**(n+1)/(n+1))\n",
    "    print('n = ' + str(n))\n",
    "    print('Midpoint error: ' + str(Mnumerical - exact))\n",
    "    print('Trapezoid error: ' + str(Tnumerical - exact) + '\\n')"
   ]
  },
  {
   "cell_type": "markdown",
   "metadata": {
    "deletable": false,
    "editable": false,
    "run_control": {
     "frozen": true
    }
   },
   "source": [
    "### ii) \n",
    "What do you notice about the errors for $n=0$ and $1$? Can you explain your observation?"
   ]
  },
  {
   "cell_type": "markdown",
   "metadata": {},
   "source": [
    "There is no error. For n = 0, the error will be 0 because it is the integral over a straight line. And for n = 1, the equation is a sloped line, which also gives exact solutions for trapezoid and midpoint rules."
   ]
  },
  {
   "cell_type": "markdown",
   "metadata": {
    "deletable": false,
    "editable": false
   },
   "source": [
    "# 2)\n",
    "\n",
    "Now we can subdivide the interval $[a,b]$ into $n$ sub-intervals of length $\\Delta x = \\frac{b-a}{n}$ and use a composite integration rule. For example, if we let $x_k = a + k \\Delta x$ then the composite trapezoidal rule is calculated by summing smaller trapezoids with width $\\Delta x$. This is given by the formula\n",
    "$$\\int_a^bf(x)\\mathrm{d}x \\approx \\Delta x \\sum_{k=0}^{n}\\left(\\frac{f(x_k)+f(x_{k+1})}{2}\\right) .$$\n",
    "\n"
   ]
  },
  {
   "cell_type": "markdown",
   "metadata": {},
   "source": [
    "## a) \n",
    "Write a function that accept $f(x)$, two interval boundaries $a$ and $b$, and an integer $n$ and computes an approximation to $I=\\int^b_af(x)\\mathrm{d}x$ using the composite trapezoidal rule with $n$ sub-intervals. The function should look like this\n",
    "```python\n",
    "def integrate_composite_trapezoidal(f,a,b,n):\n",
    "    ...\n",
    "    return I\n",
    "```\n",
    "***Hint:*** you can use your function `integrate_composite_trapezoidal` from before! Also recall that sums are best implemented using a `for` loop. \n",
    "\n",
    "***Write your code in the block below***"
   ]
  },
  {
   "cell_type": "code",
   "execution_count": 29,
   "metadata": {},
   "outputs": [],
   "source": [
    "def integrate_composite_trapezoidal(f, a, b, n):\n",
    "    dx = (b-a)/n\n",
    "    A = [a, a+dx]\n",
    "    S = 0\n",
    "    for i in range(n):\n",
    "        S += (f(A[0])+f(A[1]))/2\n",
    "        A[0] = A[1]\n",
    "        A[1] += dx\n",
    "    return dx*S\n"
   ]
  },
  {
   "cell_type": "markdown",
   "metadata": {
    "deletable": false,
    "editable": false
   },
   "source": [
    "## b)\n",
    "The trapezoidal rule is approximating the function with a straight line (a degree 1 polynomial) and then finding the area underneath the line (which is equivalent to finding the area of a trapezoid). We can make a more accurate numerical method by approximating the function with a parabola (a degree 2 polynomial) and compute the area underneath the parabola. This gives us the Simpson rule, or composite Simpson rule if we divide the interval up, which is what we will do. The *composite* Simpson rule is given by the following formula\n",
    "$$\\qquad\\qquad\\quad\\qquad\\qquad\\int_a^bf(x)\\mathrm{d}x \\approx \\frac{\\Delta x}{3} \\left(f(x_0) + 4f(x_1)+ 2f(x_2)+ 4f(x_3)+ 2f(x_4)+...+ 4f(x_{n-1}) +f(x_n)\\right)\\\\\n",
    "\\approx \\frac{\\Delta x}{3} \\left(f(x_0) + \\sum_{k=1}^{n-1} c_k f(x_k) +f(x_n)\\right)$$\n",
    "where $c_k = 2$ if $k$ is even and $c_k = 4$ if $k$ is odd. Now write a function, similar to the previous question, that accept $f(x)$, two interval boundaries $a$ and $b$, and an integer $n$ and computes an approximation to $I=\\int^b_af(x)\\mathrm{d}x$ using the composite *Simpson* rule with $n$ sub-intervals,\n",
    "```python\n",
    "def integrate_composite_simpson(f,a,b,n):\n",
    "    ...\n",
    "    return I\n",
    "```\n",
    "\n",
    "***Write your code in the block below***"
   ]
  },
  {
   "cell_type": "code",
   "execution_count": 35,
   "metadata": {},
   "outputs": [],
   "source": [
    "def integrate_simpson(f, a, b):\n",
    "    c = (a+b)/2\n",
    "    return (f(a)+4*f(c)+f(b))*(b-a)/6\n",
    "\n",
    "def integrate_composite_simpson(f, a, b, n):\n",
    "    dx = (b-a)/n\n",
    "    A = [a, a + dx]\n",
    "    S = 0\n",
    "    for i in range(n):\n",
    "        S += integrate_simpson(f, A[0], A[1])\n",
    "        A[0] = A[1]\n",
    "        A[1] += dx\n",
    "    return S"
   ]
  },
  {
   "cell_type": "markdown",
   "metadata": {
    "deletable": false,
    "editable": false
   },
   "source": [
    "## c)\n",
    "### i)\n",
    "Using the simple function $f(x) = 5x^4 - 3x^2 + \\exp(x)$, which has the indefinite integral $F(x) = \\int f(x)\\mathrm{d}x = x^5 - x^3 + \\exp(x)$, calculate the error of integral using the composite trapezoidal and Simpson functions that you created above. Try the functions on the interval $[0,1]$ with $n=10$ subintervals. The error for this integral on this interval for the composite trapezoidal rule is about `0.0130816` and the Simpson rule is about `6.762013-05`\n",
    "\n",
    "\n",
    "***Write your code in the block below***"
   ]
  },
  {
   "cell_type": "code",
   "execution_count": 36,
   "metadata": {},
   "outputs": [
    {
     "name": "stdout",
     "output_type": "stream",
     "text": [
      "Error composite trapezoidal: 0.01308166\n",
      "Error composite simpson: 4.23e-06\n"
     ]
    }
   ],
   "source": [
    "from math import exp\n",
    "\n",
    "def f(x):\n",
    "    return 5*x**4 - 3*x**2 + exp(x)\n",
    "def F(x):\n",
    "    return x**5 - x**3 + exp(x)\n",
    "\n",
    "iT = integrate_composite_trapezoidal(f, 0, 1, 10)\n",
    "iS = integrate_composite_simpson(f, 0, 1, 10)\n",
    "E = F(1)-F(0)\n",
    "\n",
    "print(f'Error composite trapezoidal: {round(iT-E,8)}')\n",
    "print(f'Error composite simpson: {round(iS-E,8)}')\n",
    "\n"
   ]
  },
  {
   "cell_type": "markdown",
   "metadata": {
    "deletable": false,
    "editable": false,
    "run_control": {
     "frozen": true
    }
   },
   "source": [
    "### ii) \n",
    "What do you expect is the error of the Simpson rule when used to integrate the function $f(x) = -4 x^2 + 2x +17$ ? "
   ]
  },
  {
   "cell_type": "markdown",
   "metadata": {},
   "source": [
    "Since the powers are relatively low and the error of the simpson's rule is based off the fourth derivative, it should be zero."
   ]
  },
  {
   "cell_type": "markdown",
   "metadata": {},
   "source": [
    "## d) Optional bonus question!!\n",
    "\n",
    "### i) \n",
    "Now we will look at how the error of the composite methods changes as you increase the number of sub-intervals $n$ (which is the same as decreasing $\\Delta x$). Compute the error of the composite trapezoidal and Simpsons rule when integrating the function from Q2ci) on the interval $[0,1]$ then make a log-log plot of the error as a function of the step size $\\Delta x = \\frac{b-a}{2^i}$ for $i = 1,2,...,10$. In other words make a log-log plot with error on the vertical axis and $\\Delta x$ on the horizontal axis for the different values of $i$. Also plot the points $(\\Delta x, \\Delta x^2)$ and $(\\Delta x, \\Delta x^4)$ for $i = 1,2,...,10$.\n",
    "\n",
    "***Hint:*** The following code is used to make a log-log plot of the points $(\\Delta x, \\Delta x^2)$ and $(\\Delta x, \\Delta x^4)$ for $i = 1,2,...,10$. You therefore only need to add error plots on top. \n",
    "```python\n",
    "import matplotlib.pyplot as plt\n",
    "a = 0\n",
    "b = 1\n",
    "\n",
    "# add functions for f and F here\n",
    "\n",
    "for i in range(1,10):\n",
    "    n = 2**i\n",
    "    dx = (b-a)/n\n",
    "    # compute the numerical integrals and errors here then add the points (dx,error) to the following plot\n",
    "    plt.loglog(dx,dx**2,'kx',dx,dx**4,'kx')\n",
    "```\n",
    "Recall that for a log-log plot, you can only plot positive numbers, therefore take the absolute value of the error when you plot it."
   ]
  },
  {
   "cell_type": "code",
   "execution_count": null,
   "metadata": {},
   "outputs": [],
   "source": []
  },
  {
   "cell_type": "markdown",
   "metadata": {
    "deletable": false,
    "editable": false,
    "run_control": {
     "frozen": true
    }
   },
   "source": [
    "### ii) \n",
    "How does the error of the 2 methods vary in terms of $\\Delta x$?"
   ]
  },
  {
   "cell_type": "markdown",
   "metadata": {},
   "source": [
    "<***Double click to write answer here***>"
   ]
  }
 ],
 "metadata": {
  "kernelspec": {
   "display_name": "Python 3",
   "language": "python",
   "name": "python3"
  },
  "language_info": {
   "codemirror_mode": {
    "name": "ipython",
    "version": 3
   },
   "file_extension": ".py",
   "mimetype": "text/x-python",
   "name": "python",
   "nbconvert_exporter": "python",
   "pygments_lexer": "ipython3",
   "version": "3.8.3"
  }
 },
 "nbformat": 4,
 "nbformat_minor": 4
}
