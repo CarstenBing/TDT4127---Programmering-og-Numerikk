{
 "cells": [
  {
   "cell_type": "markdown",
   "metadata": {
    "deletable": false,
    "editable": false,
    "run_control": {
     "frozen": true
    }
   },
   "source": [
    "[Back to assignment 9](_Oving9.ipynb)\n",
    "\n",
    "# Three in a row\n",
    "\n",
    "**Learning goals**\n",
    "\n",
    "* Lists\n",
    "* Functions\n",
    "* Conditions\n",
    "* Strings\n",
    "\n",
    "In this task you are going to implement the popular game three in a row. The game is for two players; `x` and `o`, which places their mark on the board. A player wins if it can get three in a row either horizontally, vertically or diagonally. \n",
    ".\n",
    "\n",
    "\n",
    "**a)** Create a function which prints the board. It could look like this if you want:\n",
    "\n",
    "```python\n",
    "    1   2   3\n",
    "  -------------\n",
    "1 |   |   |   |\n",
    "  -------------\n",
    "2 |   |   |   |\n",
    "  -------------\n",
    "3 |   |   |   |\n",
    "  -------------\n",
    "    ```"
   ]
  },
  {
   "cell_type": "code",
   "execution_count": 81,
   "metadata": {},
   "outputs": [
    {
     "name": "stdout",
     "output_type": "stream",
     "text": [
      "\n",
      "   A B C\n",
      "1 | | | |\n",
      "2 | | | |\n",
      "3 | | | |\n"
     ]
    }
   ],
   "source": [
    "board = [[0, 0, 0], [0, 0, 0], [0, 0, 0]]\n",
    "def print_board(board):\n",
    "    temp = [[None for j in range(3)] for i in range(3)]\n",
    "    for i in range(3):\n",
    "        for j in range(3):\n",
    "            if board[i][j] == 0:\n",
    "                temp[i][j] = ' '\n",
    "            elif board[i][j] == 'x' or board[i][j] == 'o':\n",
    "                temp[i][j] = board[i][j]\n",
    "            else:\n",
    "                temp[i][j] = str(board[i][j])\n",
    "        \n",
    "    row1 = '1 |'+ temp[0][0] +'|' + temp[0][1] + '|' + temp[0][2] + '|'\n",
    "    row2 = '2 |'+ temp[1][0] +'|' + temp[1][1] + '|' + temp[1][2] + '|'\n",
    "    row3 = '3 |'+ temp[2][0] +'|' + temp[2][1] + '|' + temp[2][2] + '|'\n",
    "    print('\\n   A B C')\n",
    "    print(row1)\n",
    "    print(row2)\n",
    "    print(row3)\n",
    "\n",
    "print_board(board)"
   ]
  },
  {
   "cell_type": "markdown",
   "metadata": {
    "deletable": false,
    "editable": false,
    "run_control": {
     "frozen": true
    }
   },
   "source": [
    "**b)** Create a function that checks if a player has won."
   ]
  },
  {
   "cell_type": "code",
   "execution_count": 50,
   "metadata": {},
   "outputs": [
    {
     "data": {
      "text/plain": [
       "(False, False)"
      ]
     },
     "execution_count": 50,
     "metadata": {},
     "output_type": "execute_result"
    }
   ],
   "source": [
    "def check_win(board):\n",
    "    xwin = False\n",
    "    owin = False\n",
    "    for i in range(3):\n",
    "        if board[i][0] == 'x' and board[i][1] == 'x' and board[i][2] == 'x':\n",
    "            xwin = True\n",
    "        elif board[i][0] == 'o' and board[i][1] == 'o' and board[i][2] == 'o':\n",
    "            owin = True\n",
    "        elif board[0][i] == 'x' and board[1][i] == 'x' and board[2][i] == 'x':\n",
    "            xwin = True\n",
    "        elif board[0][i] == 'o' and board[1][i] == 'o' and board[2][i] == 'o':\n",
    "            xwin = True\n",
    "    if board[0][0] == 'x' and board[1][1] == 'x' and board[2][2] == 'x':\n",
    "        xwin = True\n",
    "    elif board[0][0] == 'o' and board[1][1] == 'o' and board[2][2] == 'o':\n",
    "        owin = True\n",
    "    return xwin, owin\n",
    "\n",
    "check_win(board)"
   ]
  },
  {
   "cell_type": "markdown",
   "metadata": {
    "deletable": false,
    "editable": false,
    "run_control": {
     "frozen": true
    }
   },
   "source": [
    "**c)** Create a function which takes the names of the two players and saves them."
   ]
  },
  {
   "cell_type": "code",
   "execution_count": 43,
   "metadata": {},
   "outputs": [
    {
     "name": "stdout",
     "output_type": "stream",
     "text": [
      "Name player 1: Somethin\n",
      "Name player 2: Something\n"
     ]
    },
    {
     "data": {
      "text/plain": [
       "('Somethin', 'Something')"
      ]
     },
     "execution_count": 43,
     "metadata": {},
     "output_type": "execute_result"
    }
   ],
   "source": [
    "def names():\n",
    "    name1 = input('Name player 1: ')\n",
    "    name2 = input('Name player 2: ')\n",
    "    return name1, name2\n",
    "\n",
    "names()"
   ]
  },
  {
   "cell_type": "markdown",
   "metadata": {
    "deletable": false,
    "editable": false,
    "run_control": {
     "frozen": true
    }
   },
   "source": [
    "**d)** Create a function that checks whether a move is legal (no other marks on that position)."
   ]
  },
  {
   "cell_type": "code",
   "execution_count": 55,
   "metadata": {},
   "outputs": [
    {
     "name": "stdout",
     "output_type": "stream",
     "text": [
      "True\n",
      "True\n",
      "True\n"
     ]
    }
   ],
   "source": [
    "def legal(board, move):\n",
    "    temp = []\n",
    "    if move[0] != 'A' and move[0] != 'B' and move[0] != 'C' or move[1] != '1' and move[1] != '2' and move[1] != '3':\n",
    "        return False\n",
    "    if move[0] == 'A':\n",
    "        temp.append(0)\n",
    "    elif move[0] == 'B':\n",
    "        temp.append(1)\n",
    "    elif move[0] == 'C':\n",
    "        temp.append(2)\n",
    "    temp.append(int(move[1])-1)\n",
    "    \n",
    "    if board[temp[1]][temp[0]] == 0:\n",
    "        return True\n",
    "    else:\n",
    "        return False\n",
    "\n",
    "print(legal(board, 'A1'))\n",
    "print(legal(board, 'A2'))\n",
    "print(legal(board, 'A3'))"
   ]
  },
  {
   "cell_type": "markdown",
   "metadata": {
    "deletable": false,
    "editable": false,
    "run_control": {
     "frozen": true
    }
   },
   "source": [
    "**e)** Create a function that checks that the input the user gives is correct. This means that it has to be inside the board and not containing any weird characters."
   ]
  },
  {
   "cell_type": "code",
   "execution_count": 59,
   "metadata": {},
   "outputs": [
    {
     "data": {
      "text/plain": [
       "True"
      ]
     },
     "execution_count": 59,
     "metadata": {},
     "output_type": "execute_result"
    }
   ],
   "source": [
    "def check_input(board, move):\n",
    "    \n",
    "    temp = []\n",
    "    if move[0] == 'A':\n",
    "        temp.append(0)\n",
    "    elif move[0] == 'B':\n",
    "        temp.append(1)\n",
    "    elif move[0] == 'C':\n",
    "        temp.append(2)\n",
    "    temp.append(int(move[1])-1)\n",
    "    \n",
    "    if move[0] != 'A' and move[0] != 'B' and move[0] != 'C' or move[1] != '1' and move[1] != '2' and move[1] != '3':\n",
    "        return False\n",
    "    elif board[temp[1]][temp[0]] != 0:\n",
    "        return False\n",
    "    else:\n",
    "        return True\n",
    "\n",
    "check_input(board, 'A3')"
   ]
  },
  {
   "cell_type": "markdown",
   "metadata": {
    "deletable": false,
    "editable": false,
    "run_control": {
     "frozen": true
    }
   },
   "source": [
    "**f)** Put these functions together (and anything else you need) to a functioning three-in-a-row game!"
   ]
  },
  {
   "cell_type": "code",
   "execution_count": 104,
   "metadata": {},
   "outputs": [],
   "source": [
    "def add_to_board(board, move, turn):\n",
    "    temp = []\n",
    "    if move[0] == 'A':\n",
    "        temp.append(0)\n",
    "    elif move[0] == 'B':\n",
    "        temp.append(1)\n",
    "    elif move[0] == 'C':\n",
    "        temp.append(2)\n",
    "    temp.append(int(move[1])-1)\n",
    "    \n",
    "    board[temp[1]][temp[0]] = turn\n",
    "\n",
    "def main():\n",
    "    player1, player2 = names()\n",
    "    board = [[0, 0, 0], [0, 0, 0], [0, 0, 0]]\n",
    "    counter = 0\n",
    "    print_board(board)\n",
    "    xWin = False\n",
    "    oWin = False\n",
    "    \n",
    "    while not xWin and not oWin:\n",
    "        if counter % 2 == 0:\n",
    "            player = player1\n",
    "            turn = 'x'\n",
    "        else:\n",
    "            player = player2\n",
    "            turn = 'o'\n",
    "            \n",
    "        ans = False\n",
    "        while not ans:\n",
    "            move = input('\\n' + player + ', please type your move: ')\n",
    "            if check_input(board, move):\n",
    "                ans = True\n",
    "            else:\n",
    "                print('Wrong input, please retype.')\n",
    "        \n",
    "        add_to_board(board, move, turn)\n",
    "        print_board(board)\n",
    "        \n",
    "        \n",
    "        counter += 1\n",
    "        xWin, oWin = check_win(board)\n",
    "        if xWin or oWin:\n",
    "            return print('\\n' + player + ' won the game, congratulations!')\n",
    "        \n",
    "        count = 0\n",
    "        for i in range(3):\n",
    "            if 0 not in board[i]:\n",
    "                count += 1\n",
    "        if count == 3:\n",
    "            return print('\\n Sorry, you are all out of moves! Nobody won unfortunately.')"
   ]
  },
  {
   "cell_type": "code",
   "execution_count": 105,
   "metadata": {},
   "outputs": [
    {
     "name": "stdout",
     "output_type": "stream",
     "text": [
      "Name player 1: Carsten\n",
      "Name player 2: Alexander\n",
      "\n",
      "   A B C\n",
      "1 | | | |\n",
      "2 | | | |\n",
      "3 | | | |\n",
      "\n",
      "Carsten, please type your move: A1\n",
      "\n",
      "   A B C\n",
      "1 |x| | |\n",
      "2 | | | |\n",
      "3 | | | |\n",
      "\n",
      "Alexander, please type your move: B2\n",
      "\n",
      "   A B C\n",
      "1 |x| | |\n",
      "2 | |o| |\n",
      "3 | | | |\n",
      "\n",
      "Carsten, please type your move: C3\n",
      "\n",
      "   A B C\n",
      "1 |x| | |\n",
      "2 | |o| |\n",
      "3 | | |x|\n",
      "\n",
      "Alexander, please type your move: C2\n",
      "\n",
      "   A B C\n",
      "1 |x| | |\n",
      "2 | |o|o|\n",
      "3 | | |x|\n",
      "\n",
      "Carsten, please type your move: A2\n",
      "\n",
      "   A B C\n",
      "1 |x| | |\n",
      "2 |x|o|o|\n",
      "3 | | |x|\n",
      "\n",
      "Alexander, please type your move: A3\n",
      "\n",
      "   A B C\n",
      "1 |x| | |\n",
      "2 |x|o|o|\n",
      "3 |o| |x|\n",
      "\n",
      "Carsten, please type your move: C3\n",
      "Wrong input, please retype.\n",
      "\n",
      "Carsten, please type your move: C1\n",
      "\n",
      "   A B C\n",
      "1 |x| |x|\n",
      "2 |x|o|o|\n",
      "3 |o| |x|\n",
      "\n",
      "Alexander, please type your move: B3\n",
      "\n",
      "   A B C\n",
      "1 |x| |x|\n",
      "2 |x|o|o|\n",
      "3 |o|o|x|\n",
      "\n",
      "Carsten, please type your move: B2\n",
      "Wrong input, please retype.\n",
      "\n",
      "Carsten, please type your move: B1\n",
      "\n",
      "   A B C\n",
      "1 |x|x|x|\n",
      "2 |x|o|o|\n",
      "3 |o|o|x|\n",
      "\n",
      " Sorry, you are all out of moves! Nobody won unfortunately.\n"
     ]
    }
   ],
   "source": [
    "main()"
   ]
  },
  {
   "cell_type": "code",
   "execution_count": null,
   "metadata": {},
   "outputs": [],
   "source": []
  }
 ],
 "metadata": {
  "kernelspec": {
   "display_name": "Python 3",
   "language": "python",
   "name": "python3"
  },
  "language_info": {
   "codemirror_mode": {
    "name": "ipython",
    "version": 3
   },
   "file_extension": ".py",
   "mimetype": "text/x-python",
   "name": "python",
   "nbconvert_exporter": "python",
   "pygments_lexer": "ipython3",
   "version": "3.8.3"
  },
  "toc": {
   "base_numbering": 1,
   "nav_menu": {},
   "number_sections": false,
   "sideBar": true,
   "skip_h1_title": false,
   "title_cell": "Table of Contents",
   "title_sidebar": "Contents",
   "toc_cell": false,
   "toc_position": {},
   "toc_section_display": true,
   "toc_window_display": false
  }
 },
 "nbformat": 4,
 "nbformat_minor": 2
}
