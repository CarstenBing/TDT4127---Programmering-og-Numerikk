{
 "cells": [
  {
   "cell_type": "markdown",
   "metadata": {
    "deletable": false,
    "editable": false,
    "run_control": {
     "frozen": true
    }
   },
   "source": [
    "# Assignment 9\n",
    "\n",
    "**Learning goals:**\n",
    "\n",
    "- Dictionary\n",
    "- Sets\n",
    "- Read from file\n",
    "- Write to file\n",
    "- Lists\n",
    "\n",
    "**Starting Out with Python:**\n",
    "- Ch 6: Files and Exceptions\n",
    "- Ch. 9: Dictionaries and Sets\n",
    "\n",
    "\n",
    "**Approval**\n",
    "\n",
    "\n",
    "See blackboard for delivery and demonstration deadline. Remember that you have to demonstrate to your learning assistant (studass) in person in order to get it approved.\n",
    "\n",
    "To get this assignment approved you need to do the two mandatory tasks for TDT4127, and at least two other tasks. \n",
    "\n",
    "Tasks that are a little extra difficult are marked with a star. Tasks that go beyond what has been lectured are marked with two stars. Tasks translated to english are marked with (ENG).\n",
    "\n",
    "Task | Theme | Difficulty | TDT4127 \n",
    "--- | --- | --- | ---\n",
    "[Intro to dictionary](Generelt%20om%20dictionary(ENG).ipynb)|Dictionaries| - |\n",
    "[Intro to sets](Generelt%20om%20sets(ENG).ipynb)|Sets| - |\n",
    "[Intro to file managment](Generelt%20om%20filbehandling(ENG).ipynb)|File management| - |\n",
    "[Cheese virus](ostevirus_eng_.ipynb)|Dictionary| - |\n",
    "[Built-in dictionary functions](builtin.ipynb)|Dictionary| - |\n",
    "[Text searching](Soke%20i%20tekst(ENG).ipynb)|File managment|![img](./../Resources/Images/star_yellow.svg)\n",
    "[Three in a row](Tre%20paa%20rad(ENG).ipynb)|Repetition: Game|![img](./../Resources/Images/star_yellow.svg)\n",
    "[Plotting Temperatures](Plotting%20temperatures.ipynb)| Plotting | - | Mandatory\n",
    "[Integration](IntegrationAssignment1.ipynb)| Numerical integration | ![img](./../Resources/Images/star_yellow.svg)|Mandatory "
   ]
  }
 ],
 "metadata": {
  "kernelspec": {
   "display_name": "Python 3",
   "language": "python",
   "name": "python3"
  },
  "language_info": {
   "codemirror_mode": {
    "name": "ipython",
    "version": 3
   },
   "file_extension": ".py",
   "mimetype": "text/x-python",
   "name": "python",
   "nbconvert_exporter": "python",
   "pygments_lexer": "ipython3",
   "version": "3.8.3"
  },
  "toc": {
   "base_numbering": 1,
   "nav_menu": {},
   "number_sections": false,
   "sideBar": true,
   "skip_h1_title": false,
   "title_cell": "Table of Contents",
   "title_sidebar": "Contents",
   "toc_cell": false,
   "toc_position": {},
   "toc_section_display": true,
   "toc_window_display": false
  }
 },
 "nbformat": 4,
 "nbformat_minor": 2
}
