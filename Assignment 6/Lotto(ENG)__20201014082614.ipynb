{
 "cells": [
  {
   "cell_type": "markdown",
   "metadata": {},
   "source": [
    "[Back to Assignment 6](_Oving6.ipynb)\n",
    "# Lottery\n",
    "\n",
    "**Learning goals:**\n",
    "\n",
    "* Lists\n",
    "* Random numbers\n",
    "\n",
    "**Starting Out with Python:**\n",
    "\n",
    "* Ch. 7\n",
    "\n",
    "In this task you are going to create a lottery simulator.\n",
    "\n",
    "The rules are as follows:\n",
    "\n",
    "* 7 lottery numbers and 3 additional numbers from 1 to 34 are drawn. All drawn numbers are unique.\n",
    "* Prizes are based on the rules in the following table:\n",
    "\n",
    "Prize Group|Prize (NOK)\n",
    ":---|---\n",
    "7 correct\t|2 749 455\n",
    "6 correct + 1 additional\t|102 110\n",
    "6 correct\t|3 385\n",
    "5 correct\t|95\n",
    "4 correct + 1 additional\t|45"
   ]
  },
  {
   "cell_type": "markdown",
   "metadata": {
    "deletable": false,
    "editable": false,
    "run_control": {
     "frozen": true
    }
   },
   "source": [
    "### a)"
   ]
  },
  {
   "cell_type": "markdown",
   "metadata": {},
   "source": [
    "Create a list named `numbers` that contains all integers from 1 to 34.\n",
    "\n",
    "***Write code below***"
   ]
  },
  {
   "cell_type": "code",
   "execution_count": 53,
   "metadata": {
    "ExecuteTime": {
     "end_time": "2019-07-03T10:21:03.176781Z",
     "start_time": "2019-07-03T10:21:03.167560Z"
    }
   },
   "outputs": [],
   "source": [
    "def numbers(n):\n",
    "    numbers = [i for i in range(1,n+1)]\n",
    "    return numbers"
   ]
  },
  {
   "cell_type": "markdown",
   "metadata": {
    "deletable": false,
    "editable": false,
    "run_control": {
     "frozen": true
    }
   },
   "source": [
    "### b)"
   ]
  },
  {
   "cell_type": "markdown",
   "metadata": {},
   "source": [
    "Create a list named `myGuess` with 7 numbers. These numbers are the lottery numbers of one player.\n",
    "\n",
    "***Write code below.***"
   ]
  },
  {
   "cell_type": "code",
   "execution_count": 52,
   "metadata": {
    "ExecuteTime": {
     "end_time": "2019-07-03T10:21:45.639510Z",
     "start_time": "2019-07-03T10:21:45.634558Z"
    }
   },
   "outputs": [],
   "source": [
    "from random import randint\n",
    "def myGuess(n):\n",
    "    myGuess = [randint(1,34) for i in range(n)]\n",
    "    return myGuess"
   ]
  },
  {
   "cell_type": "markdown",
   "metadata": {
    "deletable": false,
    "editable": false,
    "run_control": {
     "frozen": true
    }
   },
   "source": [
    "### c) "
   ]
  },
  {
   "cell_type": "markdown",
   "metadata": {},
   "source": [
    "Create a function that takes argument `n`, draws `n` random numbers from the list `numbers` and puts them in another list.  \n",
    "For randomization: use `import random` and `random.randint(n,N)` to draw a random number in the range n to N.\n",
    "\n",
    "Example:\n",
    "\n",
    "```python\n",
    ">>>print(drawNumbers(numbers, 7))\n",
    "[16, 33, 5, 20, 7, 4, 8]\n",
    "```\n",
    "\n",
    "***Write code below.***"
   ]
  },
  {
   "cell_type": "code",
   "execution_count": 30,
   "metadata": {
    "ExecuteTime": {
     "end_time": "2019-07-03T10:25:33.636784Z",
     "start_time": "2019-07-03T10:25:33.631639Z"
    }
   },
   "outputs": [
    {
     "name": "stdout",
     "output_type": "stream",
     "text": [
      "[15, 18, 19, 9, 7, 26, 11]\n"
     ]
    }
   ],
   "source": [
    "def drawNumbers(numbers, n):\n",
    "    drawNumbers = [numbers[randint(0,33)] for i in range(n)]\n",
    "    return drawNumbers\n",
    "\n",
    "print(drawNumbers(numbers, 7))"
   ]
  },
  {
   "cell_type": "markdown",
   "metadata": {
    "deletable": false,
    "editable": false,
    "run_control": {
     "frozen": true
    }
   },
   "source": [
    "#### Hint"
   ]
  },
  {
   "cell_type": "markdown",
   "metadata": {
    "deletable": false,
    "editable": false,
    "run_control": {
     "frozen": true
    }
   },
   "source": [
    "Hint: Use `pop()` and `append()` to remove and add elements in a list. Remember that pop() removes an element at an index in the list(not the number). `numbers.pop(rand_num)` removes the element at index `rand_num`, and **not** the number rand_num from the list."
   ]
  },
  {
   "cell_type": "markdown",
   "metadata": {
    "deletable": false,
    "editable": false,
    "run_control": {
     "frozen": true
    }
   },
   "source": [
    "### d)"
   ]
  },
  {
   "cell_type": "markdown",
   "metadata": {
    "deletable": false,
    "editable": false,
    "run_control": {
     "frozen": true
    }
   },
   "source": [
    "create the function `compList` that compares two lists of integers. Return the amount of similar integers in the lists.\n",
    "\n",
    "Example run:\n",
    "\n",
    "```python\n",
    ">>>print(compList([1,2,3,4],[4,5,6,7])\n",
    "1\n",
    "```\n",
    "\n",
    "***Write code below***"
   ]
  },
  {
   "cell_type": "code",
   "execution_count": 58,
   "metadata": {
    "ExecuteTime": {
     "end_time": "2019-07-03T10:28:03.696473Z",
     "start_time": "2019-07-03T10:28:03.691094Z"
    }
   },
   "outputs": [
    {
     "name": "stdout",
     "output_type": "stream",
     "text": [
      "1\n",
      "4\n"
     ]
    }
   ],
   "source": [
    "def compList(a, b):\n",
    "\n",
    "    k = 0\n",
    "    for i in range(len(a)):\n",
    "        for j in range(len(b)):\n",
    "            if a[i] == b[j]:\n",
    "                k += 1\n",
    "    return k\n",
    "\n",
    "print(compList([1,2,3,4],[4,5,6,7]))\n",
    "\n",
    "print(compList([1,2,3,4],[1,2,3,4]))"
   ]
  },
  {
   "cell_type": "markdown",
   "metadata": {
    "deletable": false,
    "editable": false,
    "run_control": {
     "frozen": true
    }
   },
   "source": [
    "### e)"
   ]
  },
  {
   "cell_type": "markdown",
   "metadata": {
    "deletable": false,
    "editable": false,
    "run_control": {
     "frozen": true
    }
   },
   "source": [
    "Create a function that takes in the amount of lottery numbers and the amount of additional numbers from the players guess that are similar to those who have been drawn in the lottery.\n",
    "\n",
    "Example run\n",
    "\n",
    "```python\n",
    ">>>print(Winnings(7,1))\n",
    "2749455\n",
    ">>>print(Winnings(5,2))\n",
    "95\n",
    ">>>print(Winnings(3,1))\n",
    "0\n",
    "```\n",
    "\n",
    "***Write code below.***"
   ]
  },
  {
   "cell_type": "code",
   "execution_count": 51,
   "metadata": {
    "ExecuteTime": {
     "end_time": "2019-07-03T10:30:20.037475Z",
     "start_time": "2019-07-03T10:30:20.032125Z"
    }
   },
   "outputs": [
    {
     "name": "stdout",
     "output_type": "stream",
     "text": [
      "2749455\n",
      "95\n",
      "0\n"
     ]
    }
   ],
   "source": [
    "def Winnings(a,b):\n",
    "    W = [45, 95, 3385, 102110, 2749455]\n",
    "    if a == 7:\n",
    "        return W[4]\n",
    "    elif a == 6 and b >= 1:\n",
    "        return W[3]\n",
    "    elif a == 6:\n",
    "        return  W[2]\n",
    "    elif a == 5:\n",
    "        return W[1]\n",
    "    elif a == 4 and b >= 1:\n",
    "        return W[0]\n",
    "    else:\n",
    "        return 0\n",
    "\n",
    "print(Winnings(7,1))\n",
    "print(Winnings(5,2))\n",
    "print(Winnings(3,1))"
   ]
  },
  {
   "cell_type": "markdown",
   "metadata": {
    "deletable": false,
    "editable": false,
    "run_control": {
     "frozen": true
    }
   },
   "source": [
    "### f)"
   ]
  },
  {
   "cell_type": "markdown",
   "metadata": {},
   "source": [
    "Use the functions you have written to create a lottery simulator in `main()`. You can put the drawn lottery and additional numbers in the same list, and use slicing to split them in the first 7 and last 3 when comparing with `compList`. \n",
    "\n",
    "`main()`should return how much you have won or (most likely) lost in this lottery ticket/guess. A lottery ticket costs 5 NOK. remember to include the cost when returning winnings. \n",
    "\n",
    "**Remember to use the functions you allready have defined in a), b), c) and d)!**\n",
    "\n",
    "***Write code below.***"
   ]
  },
  {
   "cell_type": "code",
   "execution_count": 127,
   "metadata": {
    "ExecuteTime": {
     "end_time": "2019-07-03T10:32:57.485045Z",
     "start_time": "2019-07-03T10:32:57.477602Z"
    }
   },
   "outputs": [
    {
     "data": {
      "text/plain": [
       "-5"
      ]
     },
     "execution_count": 127,
     "metadata": {},
     "output_type": "execute_result"
    }
   ],
   "source": [
    "def main():\n",
    "    \n",
    "    num = numbers(34)\n",
    "    Guess = myGuess(7)\n",
    "    draw = drawNumbers(num, 7)\n",
    "    equal = compList(draw, Guess)\n",
    "    return Winnings(equal, 7-equal) - 5\n",
    "main()"
   ]
  },
  {
   "cell_type": "markdown",
   "metadata": {},
   "source": [
    "### g) voluntary task"
   ]
  },
  {
   "cell_type": "markdown",
   "metadata": {},
   "source": [
    "Find out how much you have won/lost after one million times of playing the lottery. Assume the prizes and costs are not changing. \n",
    "\n",
    "***Write code below***"
   ]
  },
  {
   "cell_type": "code",
   "execution_count": null,
   "metadata": {
    "ExecuteTime": {
     "end_time": "2019-07-03T10:33:24.728040Z",
     "start_time": "2019-07-03T10:33:24.722740Z"
    }
   },
   "outputs": [],
   "source": []
  }
 ],
 "metadata": {
  "kernelspec": {
   "display_name": "Python 3",
   "language": "python",
   "name": "python3"
  },
  "language_info": {
   "codemirror_mode": {
    "name": "ipython",
    "version": 3
   },
   "file_extension": ".py",
   "mimetype": "text/x-python",
   "name": "python",
   "nbconvert_exporter": "python",
   "pygments_lexer": "ipython3",
   "version": "3.8.3"
  },
  "toc": {
   "base_numbering": 1,
   "nav_menu": {},
   "number_sections": false,
   "sideBar": true,
   "skip_h1_title": false,
   "title_cell": "Table of Contents",
   "title_sidebar": "Contents",
   "toc_cell": false,
   "toc_position": {},
   "toc_section_display": true,
   "toc_window_display": false
  }
 },
 "nbformat": 4,
 "nbformat_minor": 4
}
