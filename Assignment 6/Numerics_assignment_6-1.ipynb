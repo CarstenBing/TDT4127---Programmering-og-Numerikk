{
 "cells": [
  {
   "cell_type": "markdown",
   "metadata": {},
   "source": [
    "# Assignment 6 - Using Scypy\n",
    "\n",
    "In this assignment, we will familiarize ourself with using some simple Scypy functions\n",
    "\n",
    "## **1)** Root finding \n",
    "\n",
    "The following function has one root\n",
    "\n",
    "$$f(x) = \\sin^2(-\\exp(-x^2))+x^3$$\n",
    "\n",
    "**a)** \n",
    "\n",
    "We will use the in-built bisection method function from scypy.optimize to compute this root to within a tolerance of $10^{-15}$\n",
    "\n",
    "**i)** First create a function that accepts a variable $x$ and returns $f(x)$ according to tha above function\n",
    "\n",
    "**ii)** Find an interval [a,b], such that $f(a)f(b)<0$ (i.e., such that there is a root enclosed in the interval). Any interval that satisfies $f(a)f(b)<0$ will work. \n",
    "\n",
    "**iii)** Use scipy.optimize.bisect() to find the root of $f(x)$\n",
    "\n",
    "Hint: Use the below help function to understand how to use the function\n",
    "    \n",
    "    import scipy.optimize \n",
    "    help(scipy.optimize.bisect)"
   ]
  },
  {
   "cell_type": "code",
   "execution_count": 16,
   "metadata": {},
   "outputs": [
    {
     "name": "stdout",
     "output_type": "stream",
     "text": [
      "Please type upper limit: 1\n",
      "Please type lower limit: -1\n",
      "-0.6945500745841855\n"
     ]
    }
   ],
   "source": [
    "import scipy.optimize\n",
    "from math import sin, exp\n",
    "\n",
    "def f(x):\n",
    "    return (sin(-exp(-x**2)))**2+x**3\n",
    "\n",
    "def interval(a,b):\n",
    "    if f(a)*f(b) < 0:\n",
    "        return True\n",
    "    else:\n",
    "        return False\n",
    "    \n",
    "a = float(input('Please type upper limit: '))\n",
    "b = float(input('Please type lower limit: '))\n",
    "\n",
    "if interval(a,b):\n",
    "    print(scipy.optimize.bisect(f,a,b))"
   ]
  },
  {
   "cell_type": "markdown",
   "metadata": {},
   "source": [
    "**b)**\n",
    "\n",
    "We will now use the in-built newton function from scypy.optimize to compute this root to within a tolerance of $10^{-15}$.\n",
    "\n",
    "**i)** Use scipy.optimize.newton() to find the root of $f(x)$. Note that you do not need to specify the derivative of $f(x)$ for scipy.optimize.newton() to work. Try the initial guesses: $x_0=-1,0,1$. Does the method converge for all choices of these intitial guesses? Why/why not? \n",
    "\n",
    "**ii)** If you don't specify the derivative of $f(x)$ in the previous question, what method did scipy.optimize.newton() use to solve for the root? Did it use Newton's method or another method? You can give you answer in words as a comment.\n",
    "\n",
    "Hint: Use the below help function to understand how to use the function\n",
    "    \n",
    "    import scipy.optimize \n",
    "    help(scipy.optimize.newton)\n"
   ]
  },
  {
   "cell_type": "code",
   "execution_count": 30,
   "metadata": {},
   "outputs": [
    {
     "data": {
      "text/plain": [
       "-0.6945500745845242"
      ]
     },
     "execution_count": 30,
     "metadata": {},
     "output_type": "execute_result"
    }
   ],
   "source": [
    "# help(scipy.optimize.newton)\n",
    "IC = [-1, 0, 1]\n",
    "tol = 10**(-15)\n",
    "\n",
    "scipy.optimize.newton(f,IC[-1], tol = tol)\n",
    "\n",
    "# Method does not coverge for x0 = 0\n",
    "\n",
    "# It used the secant method, which means that if the initial guess is 0, the function is undefined"
   ]
  },
  {
   "cell_type": "markdown",
   "metadata": {
    "hide_input": true
   },
   "source": [
    "# **Q2)** Solving linear systems\n",
    "\n",
    "Given the following linear system of equations\n",
    "\n",
    "$$\n",
    "\\begin{align}\n",
    "x_1 - x_3 + x_4 =&\\, 2 \\\\\n",
    "2x_1  + x_3 - 2 x_4 =&\\, 0 \\\\\n",
    "x_1  +2x_2- 6x_3 =& \\,1 \\\\\n",
    "x_1  - 6x_3 -3x_4=& \\,0 \\\\\n",
    "\\end{align}\n",
    "$$\n",
    "Our goal is to solve for the variables $x = (x_1,x_2,x_3,x_4)^T$. \n",
    "\n",
    "**a)** First define a matrix $A$ and vector $b$ such that the above system of equations an be written in the form \n",
    "\n",
    "$$Ax=b$$\n",
    "\n",
    "**b)** Use the function scipy.linalg.solve() to solve for the vector $x$, without computing the inverse $A^{-1}$.\n",
    "\n",
    "**c)** Your solution should satisfy the equation $Ax-b = 0$. Check if this is really true by computing the \"error vector\" \n",
    "\n",
    "$$error = Ax-b$$\n",
    "\n",
    "It should give $error = [0,0,0,0]$. \n"
   ]
  },
  {
   "cell_type": "code",
   "execution_count": 59,
   "metadata": {},
   "outputs": [],
   "source": [
    "import numpy as np\n",
    "A = np.array([[1, 0, -1, 1], [2, 0, 1, -2], [1, 2, -6, 0], [1, 0, -6, -3]])\n",
    "b = np.array([[2], [0], [1], [0]])"
   ]
  },
  {
   "cell_type": "code",
   "execution_count": 57,
   "metadata": {},
   "outputs": [],
   "source": [
    "x = scipy.linalg.solve(A,b)"
   ]
  },
  {
   "cell_type": "code",
   "execution_count": 58,
   "metadata": {},
   "outputs": [
    {
     "name": "stdout",
     "output_type": "stream",
     "text": [
      "[[0.]\n",
      " [0.]\n",
      " [0.]\n",
      " [0.]]\n"
     ]
    }
   ],
   "source": [
    "error = np.dot(A,x)-b\n",
    "print(error)"
   ]
  }
 ],
 "metadata": {
  "kernelspec": {
   "display_name": "Python 3",
   "language": "python",
   "name": "python3"
  },
  "language_info": {
   "codemirror_mode": {
    "name": "ipython",
    "version": 3
   },
   "file_extension": ".py",
   "mimetype": "text/x-python",
   "name": "python",
   "nbconvert_exporter": "python",
   "pygments_lexer": "ipython3",
   "version": "3.7.9"
  }
 },
 "nbformat": 4,
 "nbformat_minor": 4
}
