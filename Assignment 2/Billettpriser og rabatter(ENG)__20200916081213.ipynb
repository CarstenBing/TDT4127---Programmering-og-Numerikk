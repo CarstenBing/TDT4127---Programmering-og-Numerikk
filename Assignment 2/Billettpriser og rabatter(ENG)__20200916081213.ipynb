{
 "cells": [
  {
   "cell_type": "markdown",
   "metadata": {
    "deletable": false,
    "editable": false,
    "run_control": {
     "frozen": true
    }
   },
   "source": [
    "<nav class=\"navbar navbar-default\">\n",
    "  <div class=\"container-fluid\">\n",
    "    <div class=\"navbar-header\">\n",
    "      <a class=\"navbar-brand\" href=\"_Oving2.ipynb\">Assignment 2</a>\n",
    "    </div>\n",
    "  </div>\n",
    "</nav>\n",
    "\n",
    "\n",
    "# Ticket Prices and Discounts\n",
    "\n",
    "**Learning goals:**\n",
    "\n",
    "* Conditions\n",
    "\n",
    "**Starting Out with Python:**\n",
    "\n",
    "* ch 3.1, 3.2, 3.4\n",
    "\n",
    "\n",
    "314/5000\n",
    "In this assignment, you will use conditions (if-elif-else) to determine the ticket price of a user based on user input.\n",
    "\n",
    "The transport company \"TravelevatoR\" offers train rides from Trondheim to Pythonville. If you book at least 14 days before you travel, you can get a minimum price 199. Regular ticket costs 440."
   ]
  },
  {
   "cell_type": "markdown",
   "metadata": {
    "deletable": false,
    "editable": false,
    "run_control": {
     "frozen": true
    }
   },
   "source": [
    "### a)"
   ]
  },
  {
   "cell_type": "markdown",
   "metadata": {
    "deletable": false,
    "editable": false,
    "run_control": {
     "frozen": true
    }
   },
   "source": [
    "Write a program that takes as input the amount of days to the travel date and outputs the availible price:\n",
    "\n",
    "**Example run:**\n",
    "  \n",
    "```\n",
    "Days to your trip? 15  \n",
    "You can have minimum price: 199,-  \n",
    "\n",
    "\n",
    "Days to your trip? 8  \n",
    "Too late for mimimum price; regular ticket: 440,-  \n",
    "```\n",
    "***Write your code below***"
   ]
  },
  {
   "cell_type": "code",
   "execution_count": 24,
   "metadata": {
    "ExecuteTime": {
     "end_time": "2019-07-02T08:22:50.607851Z",
     "start_time": "2019-07-02T08:22:50.600802Z"
    }
   },
   "outputs": [
    {
     "name": "stdin",
     "output_type": "stream",
     "text": [
      "Days to your trip? 19\n"
     ]
    },
    {
     "name": "stdout",
     "output_type": "stream",
     "text": [
      "Mini-price 199,- cannot be refunded/changed\n"
     ]
    },
    {
     "name": "stdin",
     "output_type": "stream",
     "text": [
      "Do you want this? (Y/N)?  N\n",
      "Age:  23\n",
      "Are you military in uniform? (Y/N)?  N\n"
     ]
    },
    {
     "name": "stdout",
     "output_type": "stream",
     "text": [
      "You are egligible for the normal price of 440,-\n"
     ]
    }
   ],
   "source": [
    "days = int(input('Days to your trip?'))\n",
    "if days < 14:\n",
    "    print('Too late for mimimum price; regular ticket: 440,-')\n",
    "else:\n",
    "    print('Mini-price 199,- cannot be refunded/changed')\n",
    "    ans = input('Do you want this? (Y/N)? ')\n",
    "    if ans == 'N':\n",
    "        price = 440\n",
    "        age = int(input('Age: '))\n",
    "        if age < 16 or age > 60:\n",
    "            price = price*(1-0.25)\n",
    "        else:\n",
    "            mil = input('Are you military in uniform? (Y/N)? ')\n",
    "            if mil == 'Y':\n",
    "                price = price*(1-0.25)\n",
    "    else:\n",
    "        price = 199\n",
    "    if price == 440:\n",
    "        print(f'You are egligible for the normal price of {price},-')\n",
    "    elif price == 199:\n",
    "        print('Jolly good! Have a nice trip.')\n",
    "    else:\n",
    "        print(f'You get the special price: {price},-')"
   ]
  },
  {
   "cell_type": "markdown",
   "metadata": {
    "deletable": false,
    "editable": false,
    "run_control": {
     "frozen": true
    }
   },
   "source": [
    "### b)"
   ]
  },
  {
   "cell_type": "markdown",
   "metadata": {
    "deletable": false,
    "editable": false,
    "run_control": {
     "frozen": true
    }
   },
   "source": [
    "Occasionally, customers do not want a mini-price, but rather want a full price ticket. This is because the mini-price cannot be refunded / changed. Therefore, expand the program so that customers are asked if they want a mini-price - but only where relevant. Two examples of driving after the expansion:\n",
    "\n",
    "  \n",
    "```python\n",
    "Days to trip? 17\n",
    "Mini-price 199,- cannot be refunded/changed\n",
    "Do you want this? (Y/N)? Y\n",
    "Jolly good! Have a nice trip.\n",
    "```\n",
    "  \n",
    "```python\n",
    "Days to trip? 17\n",
    "Mini-price 199,- cannot be refunded/changed\n",
    "Do you want this? (Y/N)? Y\n",
    "OK, you can have a regular ticket: 440,-\n",
    "```"
   ]
  },
  {
   "cell_type": "markdown",
   "metadata": {
    "deletable": false,
    "editable": false,
    "run_control": {
     "frozen": true
    }
   },
   "source": [
    "### c)"
   ]
  },
  {
   "cell_type": "markdown",
   "metadata": {
    "deletable": false,
    "editable": false,
    "run_control": {
     "frozen": true
    }
   },
   "source": [
    "It is decided that children under 16 are given a 50% discount. Seniors (60+), military in uniform, and students are given a 25% discount. For example, if the customer is both 60+ and military/student, it still gets only a 25% discount. All these discounts apply only in relation to full price (regular ticket), for the mini-price no discounts are given. Change the program so that it asks the customer about age and student/military, and calculates the correct price.\n",
    "\n",
    "The new questions should only be asked ***when*** they are relevant, as it is a goal that the customer must answer as few questions as possible.\n",
    "\n",
    "Example run:\n",
    "\n",
    "  \n",
    "```python\n",
    "Days to trip? 17\n",
    "Mini-price 199,- cannot be refunded/changed\n",
    "Do you want this? (Y/N)? N\n",
    "Age: 15\n",
    "You get the special price: 220,-\n",
    "```"
   ]
  },
  {
   "cell_type": "markdown",
   "metadata": {
    "deletable": false,
    "editable": false,
    "run_control": {
     "frozen": true
    }
   },
   "source": [
    "### d) Voluntary task"
   ]
  },
  {
   "cell_type": "markdown",
   "metadata": {
    "deletable": false,
    "editable": false,
    "run_control": {
     "frozen": true
    }
   },
   "source": [
    "You will be approved if you have only completed a, b and part c, but try this a little harder d as well.\n",
    "\n",
    "After heavy lobbying from student organizations, the rules are changed as follows: Students also get a little discount on mini-price tickets (10%), and that people who are both students and military / 60+, or students and children, receive two discounts, thus paying only 0.75 * 0.75 or 0.75 * 0.5 of full price. Note that people who are 60+ and military, but not students, or children and military, but not students, do not receive such a multiple discount, they still have to settle for the one discount they had before, and the usual 199 for the mini-price. Change the program to work properly in accordance with the new rules."
   ]
  },
  {
   "cell_type": "code",
   "execution_count": null,
   "metadata": {},
   "outputs": [],
   "source": []
  }
 ],
 "metadata": {
  "kernelspec": {
   "display_name": "Python 3",
   "language": "python",
   "name": "python3"
  },
  "language_info": {
   "codemirror_mode": {
    "name": "ipython",
    "version": 3
   },
   "file_extension": ".py",
   "mimetype": "text/x-python",
   "name": "python",
   "nbconvert_exporter": "python",
   "pygments_lexer": "ipython3",
   "version": "3.8.3"
  },
  "toc": {
   "base_numbering": 1,
   "nav_menu": {},
   "number_sections": false,
   "sideBar": true,
   "skip_h1_title": false,
   "title_cell": "Table of Contents",
   "title_sidebar": "Contents",
   "toc_cell": false,
   "toc_position": {},
   "toc_section_display": true,
   "toc_window_display": false
  }
 },
 "nbformat": 4,
 "nbformat_minor": 4
}
