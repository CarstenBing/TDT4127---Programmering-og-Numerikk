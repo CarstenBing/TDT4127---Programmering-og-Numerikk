{
 "cells": [
  {
   "cell_type": "markdown",
   "metadata": {
    "deletable": false,
    "editable": false,
    "run_control": {
     "frozen": true
    }
   },
   "source": [
    "# Logic operators and logic expressions\n",
    "\n",
    "**Learning goals:**\n",
    "- Logic expressions\n",
    "- Conditions\n",
    "- Understanding code\n",
    "\n",
    "**Starting Out with Python:**\n",
    "- Chapt. 3.2\n",
    "- Chapt 3.5-3.6\n",
    "\n",
    "In this task, we are going to learn about logic expressions, and how they can be combined using `and`, `or`, and `not`."
   ]
  },
  {
   "cell_type": "markdown",
   "metadata": {
    "deletable": false,
    "editable": false,
    "heading_collapsed": true,
    "run_control": {
     "frozen": true
    }
   },
   "source": [
    "## Overview of logic operators and logic expressions\n",
    "\n",
    "This is not a part of the assignment, but it is recommended to read before you proceed."
   ]
  },
  {
   "cell_type": "markdown",
   "metadata": {
    "deletable": false,
    "editable": false,
    "hidden": true,
    "run_control": {
     "frozen": true
    }
   },
   "source": [
    "In the prior tasks in this assignment, all the conditions were simple expressions where we only typically compared two values. The most common comparison operators are:\n",
    "\n",
    "- `==` (which means \"is equal to\", note two equal signs are required for Python to differentiate between the assignment operator)\n",
    "- `!=` (which means \"not equal to\", i.e. the opposite of `==`\n",
    "- `>` , `<` , `>=` , `<=` (which means greater than, less than, greater than or equal to, and less than or equal to, respectively)\n",
    "\n",
    "Oftentimes decisions made in a program may depend on **several** variables, or multiple conditions for the same variable.\n",
    "\n",
    "With the aid of logic operators, we can test for several conditions in the same if statement. The example below demonstrates a small program that reads in temperature and wind, and warns of extreme weather if it is colder than -30, warmer than 40, or more wind than 20 m/s.\n",
    "\n",
    "Here we demonstrate two alternative solutions, first with simple expressions and an if-elif statement (line 5-10), and then using if statements that are composed of multiple conditions using `or` (line 13-14). **NOTE:** Click on view -> Toggle Line Numbers in the top panel in order to see line numbers.\n",
    "\n",
    "When there is an `or` between two statements, it is enough for one of them (or both) to be true for the whole expression to evaluate to true. As a result, the solutions using composite expressions, will yield the same result as the if-elif statement, only that we have skipped the exclamation point in the final print, so that you can see which one is which."
   ]
  },
  {
   "cell_type": "code",
   "execution_count": null,
   "metadata": {
    "hidden": true
   },
   "outputs": [],
   "source": [
    "temp = float(input(\"Input temperature in Celsius: \"))\n",
    "wind = float(input(\"Input wind speed in m/s: \"))\n",
    "  \n",
    "# Solution using if elif\n",
    "if temp < -30:\n",
    "    print(\"WARNING: Extreme weather!\")\n",
    "elif temp > 40:\n",
    "    print(\"WARNING: Extreme weather!\")\n",
    "elif wind > 20:\n",
    "    print(\"WARNING: Extreme weather!\")\n",
    "  \n",
    "# Alternate solution using composite expressions\n",
    "if temp < -30 or temp > 40 or wind > 20:\n",
    "    print(\"WARNING: Extreme weather\")"
   ]
  },
  {
   "cell_type": "markdown",
   "metadata": {
    "deletable": false,
    "editable": false,
    "hidden": true,
    "run_control": {
     "frozen": true
    }
   },
   "source": [
    "Note that the version using composite expressions only works in this case because the same text is printed in all the three cases. If the print were to be more specific (e.g. extremely cold/ extremely warm/ ...), we would have had to use if-elif..\n",
    "\n",
    "On the other hand, in some cases we can avoid nested if statements (line 5-7 in the example below) by combining conditions with `and` (line 10-11 below). When there is an `and` between two conditions, **both** must be true for the entire expression to evaluate to true."
   ]
  },
  {
   "cell_type": "code",
   "execution_count": null,
   "metadata": {
    "ExecuteTime": {
     "end_time": "2019-07-02T06:42:19.110725Z",
     "start_time": "2019-07-02T06:42:10.950922Z"
    },
    "hidden": true
   },
   "outputs": [],
   "source": [
    "rain = float(input(\"Hvor many mm of rain is forecasted? \"))\n",
    "wind = float(input(\"Input wind in m/s: \"))\n",
    "  \n",
    "# Solution using nested if statements.\n",
    "if rain > 0.2:\n",
    "    if wind < 7.0:\n",
    "        print(\"Umbrella is recommended.\")\n",
    "  \n",
    "# USING COMPOSITE EXPRESSIONS\n",
    "if rain > 0.2 and wind < 7.0:\n",
    "    print(\"Umbrella is recommended.\")\n",
    "    "
   ]
  },
  {
   "cell_type": "markdown",
   "metadata": {
    "deletable": false,
    "editable": false,
    "hidden": true,
    "run_control": {
     "frozen": true
    }
   },
   "source": [
    "In both previous examples, most people will probably agree that the versions using composite conditions is preferred to if-elif or nested if statements. The use of composite expressions make the code both shorter an easier to understand.\n",
    "\n",
    "Typically we use the three operators: `and`, `or`, `not` to combine logic expressions.\n",
    "\n",
    "They work in the following way:\n",
    "\n",
    "- condition1 `and` condition2 becomes True only if **both** condition1 and contition2 are True, otherwise the expression becomes False.\n",
    "- condition1 `or` condition2 becomes True if **at least** one of the conditions are True, otherwise False.\n",
    "- `not`condition1 is True if condition1 is False, and False if condition1 is True.\n",
    "- One can construct more complex conditions by using more of them.\n",
    "\n",
    "Precedence rule: `not` has greater precedence than `and`, which has greater precedence than `or`.\n",
    "For instance that\n",
    "\n",
    "`if rain > 0.2 and wind < 7.0 or sunburntdanger > 0.9 and not sunscreeninventory > 0:` is given as the condition for bringing an umbrella.\n",
    "\n",
    "\n",
    "According to the rules of precedence, `not` will be evaluated first, then `and`, and finally `or`. The expression can be viewed as two different wasy of recommending umbrella (separated by `or` in the middle), that is:\n",
    "\n",
    "EITHER both `rain > 0.2` and `wind < 0.7` are true. Then it does not matter what value sunburntdanger etc. has (due to the `or` preceeding it).\n",
    "OR `sunburtndanger > 0.9` is true, while `sunscreeninventory > 0` is false (such that `not sunscreeninventory > 0` is true).\n",
    "\n",
    "In the last case, it is assumed that the umbrella is used to protect against sun, and not rain.\n",
    "\n",
    "Note that even if composite conditions make the code shorter and easier to understand in the examples given above, it is not always the case. If you end up with very large composite expressions, they will be hard to understand. In that case, breaking it up with if-elif or nested if statements could have been better.\n",
    "\n",
    "However before breaking up the expression, check if the conditions can be written in a simpler way. This is often the possible when `not` is used a lot. Like the English language, lots of use of negations in a text will make it hard to understand, the same goes for Python, and can perhaps be avoided. For instance:\n",
    "\n",
    "- `not a < 10` can be written as `a >= 10`\n",
    "- `not a == 10` can be written as `a != 10`\n",
    "- `not (c < 0 or c > 255)` can be written as `c >= 0 and c <= 255` or even simpler `0 <= c <= 255`.\n",
    "There are cases in which it is a good idea to use `not` but use it cautiously, only when there are no better alternatives."
   ]
  },
  {
   "cell_type": "markdown",
   "metadata": {
    "deletable": false,
    "editable": false,
    "run_control": {
     "frozen": true
    }
   },
   "source": [
    "## a)"
   ]
  },
  {
   "cell_type": "markdown",
   "metadata": {
    "deletable": false,
    "editable": false,
    "run_control": {
     "frozen": true
    }
   },
   "source": [
    "Which of the following expressions will evaluate to True if `x=3`, `y=8` and `z=-3`?\n",
    "\n",
    "Expression 1: `-5 < z and 5 > z`  \n",
    "Expression 2: `not y == 8`  \n",
    "Expression 3: `x == 8 or y == 8`  \n",
    "Expression 4: `not (x <= 3 or y >= 9)`  \n",
    "Expression 5: `not (x**2 != 8 and y-z == 5) or x+y == y-z`  \n",
    "\n",
    "Double click on the text below and write your answer there"
   ]
  },
  {
   "cell_type": "markdown",
   "metadata": {
    "hide_input": false
   },
   "source": [
    "Expression 1, expression 3, expression 5"
   ]
  },
  {
   "cell_type": "markdown",
   "metadata": {
    "deletable": false,
    "editable": false,
    "heading_collapsed": true,
    "run_control": {
     "frozen": true
    }
   },
   "source": [
    "#### Hint"
   ]
  },
  {
   "cell_type": "markdown",
   "metadata": {
    "deletable": false,
    "editable": false,
    "hidden": true,
    "run_control": {
     "frozen": true
    }
   },
   "source": [
    "If you are struggling, you can check by writing a program that assigns x, y and z the values 3, 8, and -3 respectively, and use `print(<logical expression>)`\n",
    "\n",
    "Remember the rules of precedence: `not` has greater precedence than `and`, which again has greater precedence than `or`.\n",
    "\n",
    "You can test your code here:"
   ]
  },
  {
   "cell_type": "code",
   "execution_count": null,
   "metadata": {
    "hidden": true
   },
   "outputs": [],
   "source": []
  },
  {
   "cell_type": "markdown",
   "metadata": {
    "deletable": false,
    "editable": false,
    "run_control": {
     "frozen": true
    }
   },
   "source": [
    "## b)"
   ]
  },
  {
   "cell_type": "markdown",
   "metadata": {
    "deletable": false,
    "editable": false,
    "run_control": {
     "frozen": true
    }
   },
   "source": [
    "Below is a code snippet where the user is asked to input two numbers within a legal range, as explained by the prompt - that is between 40-50 or between 70-90. If not both numbers were assigned legal values, the code in the else block will be executed.\n",
    "\n",
    "Unfortunately there are errors in the code causing it not to work. Your task is to correct the mistakes.\n",
    "\n",
    "***Correct the mistakes below and check that the code works for all cases***"
   ]
  },
  {
   "cell_type": "code",
   "execution_count": 5,
   "metadata": {},
   "outputs": [
    {
     "name": "stdout",
     "output_type": "stream",
     "text": [
      "Input a and b, both integers in the interval <40,50> or <70,90> :\n"
     ]
    },
    {
     "name": "stdin",
     "output_type": "stream",
     "text": [
      "Value of a:  70\n",
      "Value of b:  80\n"
     ]
    },
    {
     "name": "stdout",
     "output_type": "stream",
     "text": [
      "Both numbers are in the valid intervals. ^u^\n"
     ]
    }
   ],
   "source": [
    "print(\"Input a and b, both integers in the interval <40,50> or <70,90> :\")\n",
    "a = int(input(\"Value of a: \"))\n",
    "b = int(input(\"Value of b: \"))\n",
    "  \n",
    "if ((a <= 50 and a >= 40) and (b <= 50 and b >= 40)) or ((a <= 90 and a >= 70) and (b <= 90 and b >= 70)):\n",
    "    print(\"Both numbers are in the valid intervals. ^u^\")\n",
    "else:\n",
    "    print(\"At least one of the numbers is not within the valid intervals :(\")"
   ]
  },
  {
   "cell_type": "markdown",
   "metadata": {
    "deletable": false,
    "editable": false,
    "heading_collapsed": true,
    "run_control": {
     "frozen": true
    }
   },
   "source": [
    "#### Hint"
   ]
  },
  {
   "cell_type": "markdown",
   "metadata": {
    "deletable": false,
    "editable": false,
    "hidden": true,
    "run_control": {
     "frozen": true
    }
   },
   "source": [
    "Remember parentheses!"
   ]
  },
  {
   "cell_type": "markdown",
   "metadata": {
    "deletable": false,
    "editable": false,
    "run_control": {
     "frozen": true
    }
   },
   "source": [
    "## c)"
   ]
  },
  {
   "cell_type": "markdown",
   "metadata": {
    "deletable": false,
    "editable": false,
    "run_control": {
     "frozen": true
    }
   },
   "source": [
    "In this assignment you are going to complete the code below so that it works correctly. The program has made 10 pancakes, which is more than it is able to eat, and it wants to share some of them with you. However, if you are greedy and ask for more than 10, you will be told that it is not possible. If you on the other hand want to give pancakes (write a negativ number), you will also be told it is not possible. ***Change the code below***"
   ]
  },
  {
   "cell_type": "code",
   "execution_count": 7,
   "metadata": {},
   "outputs": [
    {
     "name": "stdout",
     "output_type": "stream",
     "text": [
      "Hello there! I have 10 pancakes I want to share with you ^u^\n"
     ]
    },
    {
     "name": "stdin",
     "output_type": "stream",
     "text": [
      "How many pancakes do you want?  100\n"
     ]
    },
    {
     "name": "stdout",
     "output_type": "stream",
     "text": [
      "Sorry, that is not possible\n"
     ]
    }
   ],
   "source": [
    "print(\"Hello there! I have 10 pancakes I want to share with you ^u^\")\n",
    "p = int(input(\"How many pancakes do you want? \"))\n",
    "  \n",
    "if p > 10 or p < 0:             #Code missing here\n",
    "    print(\"Sorry, that is not possible\")\n",
    "else:\n",
    "    r = 10-p\n",
    "    print(\"Then you will have \",p,\" and I will have \",r,\" :D\")"
   ]
  },
  {
   "cell_type": "markdown",
   "metadata": {
    "deletable": false,
    "editable": false,
    "run_control": {
     "frozen": true
    }
   },
   "source": [
    "**Example run of code above**\n",
    "\n",
    "```\n",
    "Hello there! I have 10 pancakes I want to share with you ^u^\n",
    "How many do you want? 4\n",
    "Then you will have 4 and I will have 6 :D\n",
    "```\n",
    "\n",
    "\n",
    "```\n",
    "Hello there! I have 10 pancakes I want to share with you ^u^\n",
    "How many do you want? 100\n",
    "Sorry, that is not possible.\n",
    "```"
   ]
  },
  {
   "cell_type": "markdown",
   "metadata": {
    "deletable": false,
    "editable": false,
    "run_control": {
     "frozen": true
    }
   },
   "source": [
    "## d)"
   ]
  },
  {
   "cell_type": "markdown",
   "metadata": {
    "deletable": false,
    "editable": false,
    "run_control": {
     "frozen": true
    }
   },
   "source": [
    "In this sub task, the pancake program will be extended. The program should now also ask if the person likes pancakes and store it in a variable, as shown in the code below:\n",
    "\n",
    "```python\n",
    "print(\"Hello there! I have 10 pancakes I want to share with you ^u^\")\n",
    "p = int(input(\"How many pancakes do you want? \"))\n",
    "s = input(\"Do you like pancakes? (Y/N) \")  \n",
    "\n",
    "if s == 'Y':\n",
    "    like_pancakes = True\n",
    "else:\n",
    "    like_pancakes = False\n",
    "```\n",
    "\n",
    "The pancake program loves pancakes and doesn't quite understand that some don't. Therefore, if `like_pancakes`is `False`, it should also reply \"...not possible\" even if the user asks for a valid amount of pancakes (in the interval <0,10>).\n",
    "\n",
    "You job is to collect all these conditions in a logic expression and write this logic expression in the code below (where there is ...), so that the program works correctly. ***Change the code below***"
   ]
  },
  {
   "cell_type": "code",
   "execution_count": 11,
   "metadata": {},
   "outputs": [
    {
     "name": "stdout",
     "output_type": "stream",
     "text": [
      "Hello there! I have 10 pancakes I want to share with you ^u^\n"
     ]
    },
    {
     "name": "stdin",
     "output_type": "stream",
     "text": [
      "How many pancakes do you want?  7\n",
      "Do you like pancakes? (Y/N)  N\n"
     ]
    },
    {
     "name": "stdout",
     "output_type": "stream",
     "text": [
      "Sorry, but that is not possible\n"
     ]
    }
   ],
   "source": [
    "print(\"Hello there! I have 10 pancakes I want to share with you ^u^\")\n",
    "p = int(input(\"How many pancakes do you want? \"))\n",
    "s = input(\"Do you like pancakes? (Y/N) \")\n",
    " \n",
    "if s == 'Y':\n",
    "    like_pancakes = True\n",
    "else:\n",
    "    like_pancakes = False\n",
    "  \n",
    "if like_pancakes == False:             \n",
    "    print(\"Sorry, but that is not possible\")\n",
    "else:\n",
    "    r = 10-p\n",
    "    print(\"Then you will have \",p,\" and I will have \",r,\" :D\")"
   ]
  },
  {
   "cell_type": "markdown",
   "metadata": {
    "deletable": false,
    "editable": false,
    "run_control": {
     "frozen": true
    }
   },
   "source": [
    "**Eksempel på kjøring**\n",
    "```\n",
    "Hello there! I have 10 pancakes I want to share with you ^u^\n",
    "How many pancakes do you want? 5\n",
    "Do you like pancakes? (Y/N) Y\n",
    "Then you will have 5 and I will have 5 :D\n",
    "```\n",
    "\n",
    "```\n",
    "Hello there! I have 10 pancakes I want to share with you ^u^\n",
    "How many pancakes do you want? 7\n",
    "Do you like pancakes? (Y/N) N\n",
    "Sorry, but that is not possible.\n",
    "```"
   ]
  }
 ],
 "metadata": {
  "kernelspec": {
   "display_name": "Python 3",
   "language": "python",
   "name": "python3"
  },
  "language_info": {
   "codemirror_mode": {
    "name": "ipython",
    "version": 3
   },
   "file_extension": ".py",
   "mimetype": "text/x-python",
   "name": "python",
   "nbconvert_exporter": "python",
   "pygments_lexer": "ipython3",
   "version": "3.8.3"
  },
  "toc": {
   "base_numbering": 1,
   "nav_menu": {},
   "number_sections": false,
   "sideBar": true,
   "skip_h1_title": false,
   "title_cell": "Table of Contents",
   "title_sidebar": "Contents",
   "toc_cell": false,
   "toc_position": {},
   "toc_section_display": true,
   "toc_window_display": false
  }
 },
 "nbformat": 4,
 "nbformat_minor": 4
}
